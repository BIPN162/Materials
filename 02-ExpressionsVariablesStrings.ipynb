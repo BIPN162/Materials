{
 "cells": [
  {
   "cell_type": "markdown",
   "metadata": {
    "slideshow": {
     "slide_type": "slide"
    }
   },
   "source": [
    "# Programming Fundamentals I\n",
    "## Syntax, Expressions, and Variables\n",
    "This first notebook will introduce you using Jupyter Notebooks for BIPN 162 and beyond. We'll also encounter the basics of Python syntax, using expressions, and creating different types of variables. You should use this notebook as a sandbox for testing your understanding of these topics.\n",
    "\n",
    "\n",
    "### At the end of this notebook, you'll be able to:\n",
    "* Use Jupyter Notebooks to run Python3 code\n",
    "* Use basic <b>arithmetic operations</b> in Python\n",
    "* Assign <b>variables</b> and manipulate them\n",
    "* Recognize different **types** of variables\n",
    "![](https://t4.ftcdn.net/jpg/02/37/34/45/240_F_237344500_OeNwlC7jU23jWmbmeTuTkxYTopmTQGHe.jpg)\n",
    "<hr>\n",
    "\n",
    "## Introduction to Jupyter Notebooks\n",
    "\n",
    "Jupyter notebooks are a way to combine executable code, code outputs, and text into one connected file. They run in a web browser, but don't require the internet (unless you're running it on the DataHub).\n",
    "\n",
    "The <b>'kernel'</b> is the thing that executes your code. It is what connects the notebook (as you see it) with the part of your computer, or the DataHub computers, that runs code.\n",
    "\n",
    "Jupyter Notebooks have two types of cells, a <b>Markdown</b> (like this one) and <b>Code</b>. In assignments and in viewing lectures, you don't need to run the Markdown cells, just read through them. However, when we get to a code cell, you need to tell Jupyter to run the lines of code that it contains.\n",
    "\n",
    "### Menu Options & Shortcuts\n",
    "To get a quick tour of the Jupyter user-interface, click on the 'Help' menu, then click 'User Interface Tour'. There are also a large number of useful keyboard shortcuts. Click on the 'Help' menu, and then 'Keyboard Shortcuts' to see a list.\n",
    "\n",
    "<span style=\"color:blue\">When you're in <b>Command mode</b>, cells are outlined in blue</span>. <span style=\"color:green\">When you're in <b>Edit mode</b>, blocks are outlined in green</span>.\n",
    "\n",
    "### Using Markdown\n",
    "Markdown is useful because it can be formatted using simple symbols.\n",
    "* You can create bulleted lists using asterisks.\n",
    "* Similarly, you can create numbered lists using numbers.\n",
    "* You can **bold** with two asterisks or underscores on either side (`**bold**`) or *italicize* with one asterisk or underscore (`*italicize*`)\n",
    "* Pound signs (#) create headers. More pound signs means a smaller header.\n",
    "\n",
    "<div class=\"alert alert-success\"><b>Task:</b> Edit the markdown cell below with a quick biography of yourself. You should have your name as a big header, a short quippy subtitle for yourself as a smaller header, and a three bullet points that use both <b>bold</b> and <i>italic</i>.</div>"
   ]
  },
  {
   "cell_type": "markdown",
   "metadata": {},
   "source": [
    "### Edit this markdown cell!\n",
    "\n"
   ]
  },
  {
   "cell_type": "markdown",
   "metadata": {},
   "source": [
    "### Using Code Cells\n",
    "Code cells will be read by the Python interpreter. In other words, the Python kernel will run whatever it recognizes as code within the cell.\n",
    "<div class=\"alert alert-success\"><b>Task:</b> Run the code cell below (see instructions within the cell).</div>"
   ]
  },
  {
   "cell_type": "code",
   "execution_count": null,
   "metadata": {},
   "outputs": [],
   "source": [
    "# In Python, anything with a \"#\" in front of it is code annotation, and is not read by the computer.\n",
    "# Run this cell by clicking in it and then pressing shift and enter/return simultaneously.\n",
    "# The line below will print a message for us. After you import it, Python will print a message.\n",
    "# (having printed messages like these is a really nice way to check that your cell actually ran!)\n",
    "print('Nice work!')"
   ]
  },
  {
   "cell_type": "markdown",
   "metadata": {},
   "source": [
    "### Python Expressions\n",
    "\n",
    "We can perform various arithmetic operations in Python:\n",
    "\n",
    "| Symbol |    Operation   | Usage |\n",
    "|:------:|:--------------:|:-----:|\n",
    "|    +   |    Addition    |  10+2 |\n",
    "|    -   |   Subtraction  |  10-2 |\n",
    "|    *   | Multiplication |  10*2 |\n",
    "|    /   |    Division    |  10/2 |\n",
    "|   **   |    Exponent    | 10**2 |\n",
    "| %      |    Modulo      |  10%2 |\n",
    "\n",
    "Notes:\n",
    "* The default order of operations is the same as in mathematics! (PEMDAS)\n",
    "* If you want a whole number from your division, use // instead"
   ]
  },
  {
   "cell_type": "markdown",
   "metadata": {},
   "source": [
    "<div class=\"alert alert-success\"><b>Task:</b> Try each of the operators above. Before using the modulo operator, predict what it will output, and make sure it produces what you expect.</div>"
   ]
  },
  {
   "cell_type": "code",
   "execution_count": null,
   "metadata": {},
   "outputs": [],
   "source": [
    "# Let's play with numbers weee\n",
    "8*2"
   ]
  },
  {
   "cell_type": "markdown",
   "metadata": {},
   "source": [
    "## Variables\n",
    "Variables enable us to store a value and come back to it later. They are defined with `name = value`. *Assignment is not the same thing as equality,* as in mathematics.\n",
    "\n",
    "### Assigning variables"
   ]
  },
  {
   "cell_type": "markdown",
   "metadata": {},
   "source": [
    "<div class=\"alert alert-success\"><b>Task:</b> Create two variables: a & b. Then, use an expression that combines a and b, and assign this to c. In the end, c should be equal to 6.</div>"
   ]
  },
  {
   "cell_type": "code",
   "execution_count": null,
   "metadata": {},
   "outputs": [],
   "source": [
    "# Let's save a few integers and then manipulate them.\n",
    "a = \n",
    "\n"
   ]
  },
  {
   "cell_type": "markdown",
   "metadata": {},
   "source": [
    "<b>Note</b>: Most code cells will not give you an output unless you ask for it. You can use `print( )` to output a variable or string. However, cells that *only* contain one variable will print its value.\n",
    "\n",
    "<div class=\"alert alert-success\"><b>Task:</b> Create a cell below and output your variable c.\n",
    "    <br><b>Hint</b>: Look in Help > Keyboard Shortcuts for a quick way to create a new cell below. </div>"
   ]
  },
  {
   "cell_type": "markdown",
   "metadata": {},
   "source": [
    "Usefully, you can run your cells out of order. This is useful for testing and debugging. Change your equation for `c` above, and re-run the cell with `c` alone to check its resulting value."
   ]
  },
  {
   "cell_type": "markdown",
   "metadata": {},
   "source": [
    "### Types of Variables\n",
    "Variables can be different types. Python lets you change the type of variables (the function is in parentheses below), however, *you cannot combine types*.\n",
    "\n",
    "* Integers (`int`) \n",
    "* String (`str`): letters, numbers, symbols, spaces\n",
    "* Float (`float`): any number with a decimal point (floating point number)\n",
    "\n",
    "You can check what type your variable is by using `type(variable)`.\n",
    "\n",
    "<b>Note</b>: If you ever need help using a function (e.g., `type`) in Jupyter Notebook, you can enter the function followed by a question mark or `help(function)`. For example, `type?` or `help(type)`. You can also check <a href=\"https://www.geeksforgeeks.org/python-type-function/\">the documentation</a>.\n",
    "\n",
    "<b>Hint:</b> Jupyter will only show you the last You can wrap commands in other commands. For example, we could write `print(type(a))`.\n",
    "\n",
    "<div class=\"alert alert-success\"><b>Task:</b> In the cell below, check the type of your variable c.</div>"
   ]
  },
  {
   "cell_type": "code",
   "execution_count": null,
   "metadata": {},
   "outputs": [],
   "source": [
    "# Check the type of c here\n"
   ]
  },
  {
   "cell_type": "markdown",
   "metadata": {},
   "source": [
    "Different operators in Python will produce different types of variables. \n",
    "\n",
    "<div class=\"alert alert-success\"><b>Task:</b> Compare the results of 12/2 and 12//2 by assigning the results of these operations to two different variables. Then, use the <code>int</code> and <code>float</code> functions to transform these variables into an integer and a float called: <code>result_int</code> and <code>result_float</code>.</div>"
   ]
  },
  {
   "cell_type": "code",
   "execution_count": null,
   "metadata": {},
   "outputs": [],
   "source": [
    "# Write your code here\n"
   ]
  },
  {
   "cell_type": "markdown",
   "metadata": {},
   "source": [
    "<div class=\"alert alert-info\"><b>Quiz Task</b>: What happens when you add a float (result_float) and an integer (result_int)? Test below, and write the answer on your quiz.</div>"
   ]
  },
  {
   "cell_type": "code",
   "execution_count": 3,
   "metadata": {},
   "outputs": [],
   "source": [
    "# Add your float and int here"
   ]
  },
  {
   "cell_type": "markdown",
   "metadata": {},
   "source": [
    "We can use the command `round( )` to round a float number to a whole number.\n",
    "\n",
    "<div class=\"alert alert-success\"><b>Task:</b> Try round with a float below, and print your result. What kind of variable does this create?</div>"
   ]
  },
  {
   "cell_type": "markdown",
   "metadata": {},
   "source": [
    "### Working with Strings\n",
    "Strings are represented by matching beginning & ending quotation marks. A few useful notes:\n",
    "\n",
    "* Quotation marks can be single (`'`) or double (`\"`); use single within double (we'll stick to single, most of the time)\n",
    "    * One single quotation mark within a pair of double quotation marks will be interpreted as an apostrophe (a single quotation mark).\n",
    "* Use `\\` to keep single or double quotation mark, instead of reading it as a string (e.g., for a quote or an apostrophe)\n",
    "* <b>Concatenate</b> strings (can be variables) with +\n",
    "\n",
    "<div class=\"alert alert-success\"><b>Task:</b> You have two dogs, Lassie and Sir Reginald the IV. Create <b>three different</b> strings that will enable you to flexibly introduce either of your dogs to strangers, saying \"This is ___dog_variable___\" Your code should enable you to swap in and out dog names.</div>"
   ]
  },
  {
   "cell_type": "code",
   "execution_count": null,
   "metadata": {},
   "outputs": [],
   "source": [
    "# Create your strings here\n"
   ]
  },
  {
   "cell_type": "markdown",
   "metadata": {},
   "source": [
    "We can use the `print` function to show more than one variable, as well as variables of different types. You can separate items within `print` by commas to print multiple variables, e.g. `print(a,b,\"name\")`.\n",
    "\n",
    "<div class=\"alert alert-success\"><b>Task:</b> Create a variable 'age' that is the age of Lassie. Change your strings above so that you can produce \"This is ______! He's __(age)__.\" and print the result.</div>\n",
    "\n",
    "<div class=\"alert alert-info\"><b>Quiz Task</b>: While completing the above, you might receive an error that says \"TypeError: can only concatenate str (not \"int\") to str\". Why would you get this error, and how can you correct it?</div>"
   ]
  },
  {
   "cell_type": "markdown",
   "metadata": {},
   "source": [
    "Jupyter also has \n",
    "<a href=\"https://en.wikipedia.org/wiki/Command-line_completion\" class=\"alert-link\"><b>tab complete</b></a>\n",
    "capacities, which can autocomplete what you are typing, and/or be used to explore what code is available. This is useful, for example, if you have a long string variable.\n",
    "\n",
    "\n",
    "<div class=\"alert alert-success\"><b>Task: </b>Use autocomplete to write the name of one of your variables above.</div>"
   ]
  },
  {
   "cell_type": "code",
   "execution_count": null,
   "metadata": {},
   "outputs": [],
   "source": [
    "# Move your cursor to the end of the line, press tab, and a drop menu will appear showing all possible completions\n",
    "# If there is only one option, tab-complete will auto-complete what you are typing\n",
    "\n"
   ]
  },
  {
   "cell_type": "markdown",
   "metadata": {},
   "source": [
    "As we're working through this notebook, the kernel also stores your **namespace** - all the variables and code that you have declared (executed). You can check which variables and functions are available with the command `%who`, or `%whos` (for more detailed information).\n",
    "\n",
    "<div class=\"alert alert-success\"><b>Task: </b>Use the who(s) command to check your variables below.</div>"
   ]
  },
  {
   "cell_type": "code",
   "execution_count": null,
   "metadata": {},
   "outputs": [],
   "source": []
  },
  {
   "cell_type": "markdown",
   "metadata": {},
   "source": [
    "## Declaring Variables Cheat Sheet\n",
    "Not *every* word or combination of words and numbers can be a variable name. For example, Python has a list of <b>reserved keywords</b> that cannot be variable names:\n",
    "\n",
    "<table type=\"text/css\">\n",
    "  <tr>\n",
    "      <td><code>False</code></td>\n",
    "      <td><code>None</code></td>\n",
    "      <td><code>True</code></td>\n",
    "      <td><code>and</code></td>\n",
    "      <td><code>as</code></td>\n",
    "      <td><code>assert</code></td>\n",
    "      <td><code>break</code></td>\n",
    "  </tr>\n",
    "  <tr>\n",
    "      <td><code>class</code></td>\n",
    "      <td><code>continue</code></td>\n",
    "      <td><code>def</code></td>\n",
    "      <td><code>del</code></td>\n",
    "      <td><code>elif</code></td>\n",
    "      <td><code>else</code></td>\n",
    "      <td><code>except</code></td>\n",
    "  </tr>\n",
    "  <tr>\n",
    "      <td><code>finally</code></td>\n",
    "      <td><code>for</code></td>\n",
    "      <td><code>from</code></td>\n",
    "      <td><code>global</code></td>\n",
    "      <td><code>if</code></td>\n",
    "      <td><code>import</code></td>\n",
    "      <td><code>in</code></td>\n",
    "  </tr>\n",
    "  <tr>\n",
    "      <td><code>is</code></td>\n",
    "      <td><code>lambda</code></td>\n",
    "      <td><code>nonlocal</code></td>\n",
    "      <td><code>not</code></td>\n",
    "      <td><code>or</code></td>\n",
    "      <td><code>pass</code></td>\n",
    "      <td><code>raise</code></td>\n",
    "  </tr>    \n",
    "  <tr>\n",
    "      <td><code>return</code></td>\n",
    "      <td><code>try</code></td>\n",
    "      <td><code>while</code></td>\n",
    "      <td><code>with</code></td>\n",
    "      <td><code>yield</code></td>\n",
    "  </tr>    \n",
    "</table>"
   ]
  },
  {
   "cell_type": "markdown",
   "metadata": {},
   "source": [
    "<div class=\"alert alert-success\"><b>Task:</b> Attempt to create a variables with three different reserved words above. Observe what error you receive.</div>"
   ]
  },
  {
   "cell_type": "code",
   "execution_count": null,
   "metadata": {},
   "outputs": [],
   "source": []
  },
  {
   "cell_type": "markdown",
   "metadata": {},
   "source": [
    "<div class=\"alert alert-info\"><b>Quiz Task</b>: Instead of simply giving you the other rules for creating variables, use trial and error figure out what works and what doesn't. Are variables case-sensitive? Do numbers and symbols (e.g., %, ^, -) work, and if so, where? Derive <b>three</b> rules about variables and write these on your quiz.</div>"
   ]
  },
  {
   "cell_type": "markdown",
   "metadata": {},
   "source": [
    "## Aliases\n",
    "Variables are names assigned to a value. Values can have more than one name (<b>aliases</b>).\n",
    "\n",
    "<div class=\"alert alert-success\"><b>Task: </b>Assign a value to variable <b>original</b>. Then, make an alias of <b>original</b> by storing it in the variable <b>alias</b>. What happens if you change the value of <b>original</b>, without re-assigning it to the alias?</div>"
   ]
  },
  {
   "cell_type": "markdown",
   "metadata": {},
   "source": [
    "# About this notebook\n",
    "* This notebook is largely derived from UCSD COGS18 Materials, created by Tom Donoghue & Shannon Ellis.\n",
    "\n",
    "* For more useful information, check out Jupyter Notebooks \n",
    "<a href=\"https://www.dataquest.io/blog/jupyter-notebook-tips-tricks-shortcuts/\" class=\"alert-link\">tips & tricks</a>\n",
    ", and more information on how \n",
    "<a href=\"http://jupyter.readthedocs.io/en/latest/architecture/how_jupyter_ipython_work.html\" class=\"alert-link\">notebooks work</a>."
   ]
  }
 ],
 "metadata": {
  "kernelspec": {
   "display_name": "Python 3",
   "language": "python",
   "name": "python3"
  },
  "language_info": {
   "codemirror_mode": {
    "name": "ipython",
    "version": 3
   },
   "file_extension": ".py",
   "mimetype": "text/x-python",
   "name": "python",
   "nbconvert_exporter": "python",
   "pygments_lexer": "ipython3",
   "version": "3.7.3"
  },
  "rise": {
   "theme": "serif"
  }
 },
 "nbformat": 4,
 "nbformat_minor": 2
}
