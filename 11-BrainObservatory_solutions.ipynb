{
 "cells": [
  {
   "cell_type": "markdown",
   "metadata": {},
   "source": [
    "# Brain Observatory: *What are those cells doing?*\n",
    "\n",
    "### This sandbox will help you analyze a dataset from the Allen Institute's Brain Observatory.\n",
    "\n",
    "These datasets contain calcium imaging data for various different cell types in the visual cortex of the mouse. It's likely that these cell types have different roles in the visual system -- your mission is to figure out what these roles are. You will choose a visual area, a cell type, and look at their responses to natural stimuli:\n",
    "\n",
    "### By the end of this lesson, you will be able to:\n",
    "1. Examine a 2-photon imaging dataset for a particular cell type, in a specific visual area.\n",
    "2. Use imshow to visualize two-dimensional images in Python.\n",
    "3. Create plots of raw calcium imaging data.\n",
    "\n",
    "Additional information on this dataset, and how it was collected, can be found <a href=\"http://help.brain-map.org/display/observatory/Data+-+Visual+Coding\">here</a> as well as in the <a href=\"http://alleninstitute.github.io/AllenSDK/brain_observatory.html\">SDK documentation</a>. \n",
    "\n",
    "### Table of Contents\n",
    "1. [Step One: Importing toolboxes](#one)\n",
    "2. [Step Two: Choose a transgenic line](#two)\n",
    "3. [Step Three: Extract an experiment session](#three)\n",
    "4. [Step Four: Download & inspect the natural scenes imaging session](#four)\n",
    "5. [Step Five: Look at the calcium transients of your cells](#five)\n",
    "6. [Step Six: Look at the response of your cells to natural scene](#six)\n",
    "7. [Step Seven: Examine the direction selectivity of your cell](#seven)\n",
    "\n",
    "<a id=\"one\"></a>\n",
    "## Step 1. Importing toolboxes\n",
    "First, we'll import the necessary toolboxes to run this code. The first chunk of \"import\" lines will bring in some standard toolboxes that we need. For example, \"numpy\" is a toolbox that has functions to work with large arrays. The second chunk of import lines brings in some toolboxes that the Allen Brain Observatory has already packaged, to help users analyze its data.\n",
    "\n",
    "<div class=\"alert alert-success\"><b>Task</b>: In addition to the modules already imported below, import <code>numpy</code>, <code>pandas</code>, and <code>matplotlib.pyplot</code> as their conventional names.</div>"
   ]
  },
  {
   "cell_type": "code",
   "execution_count": 1,
   "metadata": {
    "scrolled": false
   },
   "outputs": [],
   "source": [
    "# Standard toolboxes\n",
    "import numpy as np\n",
    "import matplotlib.pyplot as plt\n",
    "import pandas as pd\n",
    "\n",
    "# Allen specific toolboxes\n",
    "import allensdk.brain_observatory.stimulus_info as stim_info\n",
    "from allensdk.core.brain_observatory_cache import BrainObservatoryCache"
   ]
  },
  {
   "cell_type": "markdown",
   "metadata": {},
   "source": [
    "Similar to how we created an instance of the CellTypesCache, here we'll create an instance of the \"BrainObservatoryCache.\" The datahub already has a manifest file available in the directory you see below. This directory also has all of the data we need."
   ]
  },
  {
   "cell_type": "code",
   "execution_count": 2,
   "metadata": {},
   "outputs": [],
   "source": [
    "# We will create an instance of the Brain Observatory Cache as an object, \"boc.\"\n",
    "boc = BrainObservatoryCache(manifest_file='/datasets/allen-brain-observatory/visual-coding-2p/manifest.json')"
   ]
  },
  {
   "cell_type": "markdown",
   "metadata": {},
   "source": [
    "<a id=\"two\"></a>\n",
    "## Step 2. Get a list of all possible transgenic mouse lines and brain areas, and choose which to work with.\n",
    "Next, we'll ask that \"boc\" structure to tell us what all of the possible Cre lines and brain areas are that we can analyze. You'll need to use these exact names when you're trying to pull a specific one from the dataset.\n"
   ]
  },
  {
   "cell_type": "code",
   "execution_count": 3,
   "metadata": {
    "scrolled": false
   },
   "outputs": [
    {
     "name": "stdout",
     "output_type": "stream",
     "text": [
      "all cre lines: ['Cux2-CreERT2', 'Emx1-IRES-Cre', 'Fezf2-CreER', 'Nr5a1-Cre', 'Ntsr1-Cre_GN220', 'Pvalb-IRES-Cre', 'Rbp4-Cre_KL100', 'Rorb-IRES2-Cre', 'Scnn1a-Tg3-Cre', 'Slc17a7-IRES2-Cre', 'Sst-IRES-Cre', 'Tlx3-Cre_PL56', 'Vip-IRES-Cre']\n",
      "all brain regions: ['VISal', 'VISam', 'VISl', 'VISp', 'VISpm', 'VISrl']\n"
     ]
    }
   ],
   "source": [
    "# We'll save the list of cre lines as a variable, 'cre-lines'.\n",
    "cre_lines = boc.get_all_cre_lines()\n",
    "print(\"all cre lines: \" + str(cre_lines))\n",
    "\n",
    "# We'll save the list of possible structures as a variable, 'brain_areas'.\n",
    "brain_areas = boc.get_all_targeted_structures()\n",
    "print(\"all brain regions: \" + str(brain_areas))"
   ]
  },
  {
   "cell_type": "markdown",
   "metadata": {},
   "source": [
    "<div style=\"background: #DFF0D8; border-radius: 3px; padding: 10px;\">\n",
    "<p><b>Task:</b>  Choose a visual area and Cre line from the lists above to examine in the rest of the notebook. Refer back to our lecture slides or the <a href=\"http://observatory.brain-map.org/visualcoding\">Brain Observatory landing page</a> to learn more about these different visual areas. Primary cortex (VISp) is surrounded by several other brain regions, which have unknown functions.\n",
    "    \n",
    "You can find more info about the Cre-lines here <a href=\"http://observatory.brain-map.org/visualcoding/transgenic\">here</a>.\n",
    "\n",
    "1. Create a new block of **Markdown** text below this one which briefly describes your visual area and Cre line. Remember that markdown is the other type of block that Jupyter supports. You can change your block to Markdown using the dropdown in the menu above. Check out <a href=\"https://www.markdownguide.org/cheat-sheet/\">this cheatsheet</a> for a few handy elements of Markdown syntax.\n",
    "2. Assign your visual area and cre line to <code>visual_area</code> and <code>cre_line</code>, respectively.\n",
    "</div>"
   ]
  },
  {
   "cell_type": "code",
   "execution_count": 4,
   "metadata": {
    "scrolled": false
   },
   "outputs": [],
   "source": [
    "# Visual area & cre-line below.\n",
    "visual_area = 'VISal'\n",
    "cre_line = 'Rorb-IRES2-Cre'"
   ]
  },
  {
   "cell_type": "markdown",
   "metadata": {},
   "source": [
    "<a id=\"three\"></a>\n",
    "## Step 3. Extract an experiment session.\n",
    "\n",
    "<div class=\"alert alert-success\"><b>Task</b>: Create a dataframe of experiments.</div>\n",
    "\n",
    "1. Use the `get_experiment_containers()` method of our `boc` object to get a list of experiments that are available. This method takes the arguments `targeted_structures= ` as well as `cre_lines= `, which both require a list. Assign the outcome of this method to `experiments`.\n",
    "2. Create a dataframe out of `exps` and assign it to `exps_df`.\n",
    "3. There isn't an experiment for every combination of Cre lines and visual areas above. Add an `if` statement that will print a statement for you if the dataframe you created is empty (Hint: use `empty` attribute).\n",
    "4. Show the head of your dataframe."
   ]
  },
  {
   "cell_type": "code",
   "execution_count": 5,
   "metadata": {
    "scrolled": false
   },
   "outputs": [
    {
     "name": "stdout",
     "output_type": "stream",
     "text": [
      "All experiments for Rorb-IRES2-Cre cells in VISal: \n"
     ]
    },
    {
     "data": {
      "text/html": [
       "<div>\n",
       "<style scoped>\n",
       "    .dataframe tbody tr th:only-of-type {\n",
       "        vertical-align: middle;\n",
       "    }\n",
       "\n",
       "    .dataframe tbody tr th {\n",
       "        vertical-align: top;\n",
       "    }\n",
       "\n",
       "    .dataframe thead th {\n",
       "        text-align: right;\n",
       "    }\n",
       "</style>\n",
       "<table border=\"1\" class=\"dataframe\">\n",
       "  <thead>\n",
       "    <tr style=\"text-align: right;\">\n",
       "      <th></th>\n",
       "      <th>id</th>\n",
       "      <th>imaging_depth</th>\n",
       "      <th>targeted_structure</th>\n",
       "      <th>cre_line</th>\n",
       "      <th>reporter_line</th>\n",
       "      <th>donor_name</th>\n",
       "      <th>specimen_name</th>\n",
       "      <th>tags</th>\n",
       "      <th>failed</th>\n",
       "    </tr>\n",
       "  </thead>\n",
       "  <tbody>\n",
       "    <tr>\n",
       "      <th>0</th>\n",
       "      <td>511510723</td>\n",
       "      <td>275</td>\n",
       "      <td>VISal</td>\n",
       "      <td>Rorb-IRES2-Cre</td>\n",
       "      <td>Ai93(TITL-GCaMP6f)</td>\n",
       "      <td>222431</td>\n",
       "      <td>Rorb-IRES2-Cre;Camk2a-tTA;Ai93-222431</td>\n",
       "      <td>[]</td>\n",
       "      <td>False</td>\n",
       "    </tr>\n",
       "    <tr>\n",
       "      <th>1</th>\n",
       "      <td>511510794</td>\n",
       "      <td>275</td>\n",
       "      <td>VISal</td>\n",
       "      <td>Rorb-IRES2-Cre</td>\n",
       "      <td>Ai93(TITL-GCaMP6f)</td>\n",
       "      <td>231120</td>\n",
       "      <td>Rorb-IRES2-Cre;Camk2a-tTA;Ai93-231120</td>\n",
       "      <td>[]</td>\n",
       "      <td>False</td>\n",
       "    </tr>\n",
       "    <tr>\n",
       "      <th>2</th>\n",
       "      <td>569396922</td>\n",
       "      <td>275</td>\n",
       "      <td>VISal</td>\n",
       "      <td>Rorb-IRES2-Cre</td>\n",
       "      <td>Ai93(TITL-GCaMP6f)</td>\n",
       "      <td>284418</td>\n",
       "      <td>Rorb-IRES2-Cre;Camk2a-tTA;Ai93-284418</td>\n",
       "      <td>[]</td>\n",
       "      <td>False</td>\n",
       "    </tr>\n",
       "    <tr>\n",
       "      <th>3</th>\n",
       "      <td>511500480</td>\n",
       "      <td>275</td>\n",
       "      <td>VISal</td>\n",
       "      <td>Rorb-IRES2-Cre</td>\n",
       "      <td>Ai93(TITL-GCaMP6f)</td>\n",
       "      <td>232623</td>\n",
       "      <td>Rorb-IRES2-Cre;Camk2a-tTA;Ai93-232623</td>\n",
       "      <td>[]</td>\n",
       "      <td>False</td>\n",
       "    </tr>\n",
       "    <tr>\n",
       "      <th>4</th>\n",
       "      <td>511510860</td>\n",
       "      <td>275</td>\n",
       "      <td>VISal</td>\n",
       "      <td>Rorb-IRES2-Cre</td>\n",
       "      <td>Ai93(TITL-GCaMP6f)</td>\n",
       "      <td>228786</td>\n",
       "      <td>Rorb-IRES2-Cre;Camk2a-tTA;Ai93-228786</td>\n",
       "      <td>[]</td>\n",
       "      <td>False</td>\n",
       "    </tr>\n",
       "  </tbody>\n",
       "</table>\n",
       "</div>"
      ],
      "text/plain": [
       "          id  imaging_depth targeted_structure        cre_line  \\\n",
       "0  511510723            275              VISal  Rorb-IRES2-Cre   \n",
       "1  511510794            275              VISal  Rorb-IRES2-Cre   \n",
       "2  569396922            275              VISal  Rorb-IRES2-Cre   \n",
       "3  511500480            275              VISal  Rorb-IRES2-Cre   \n",
       "4  511510860            275              VISal  Rorb-IRES2-Cre   \n",
       "\n",
       "        reporter_line donor_name                          specimen_name tags  \\\n",
       "0  Ai93(TITL-GCaMP6f)     222431  Rorb-IRES2-Cre;Camk2a-tTA;Ai93-222431   []   \n",
       "1  Ai93(TITL-GCaMP6f)     231120  Rorb-IRES2-Cre;Camk2a-tTA;Ai93-231120   []   \n",
       "2  Ai93(TITL-GCaMP6f)     284418  Rorb-IRES2-Cre;Camk2a-tTA;Ai93-284418   []   \n",
       "3  Ai93(TITL-GCaMP6f)     232623  Rorb-IRES2-Cre;Camk2a-tTA;Ai93-232623   []   \n",
       "4  Ai93(TITL-GCaMP6f)     228786  Rorb-IRES2-Cre;Camk2a-tTA;Ai93-228786   []   \n",
       "\n",
       "   failed  \n",
       "0   False  \n",
       "1   False  \n",
       "2   False  \n",
       "3   False  \n",
       "4   False  "
      ]
     },
     "execution_count": 5,
     "metadata": {},
     "output_type": "execute_result"
    }
   ],
   "source": [
    "exps = boc.get_experiment_containers(targeted_structures=[visual_area],cre_lines=[cre_line],)\n",
    "\n",
    "# Create a dataframe and show us the beginning of it\n",
    "# If there aren't experiments with that combination, you'll get an error message.\n",
    "exps_df = pd.DataFrame(exps)\n",
    "if  exps_df.empty:\n",
    "    print('There are not any experiments for that cre-driver line and visual area combination.')\n",
    "    print('Change either/and your visual_area and cre_line in the code above, and re-run.')\n",
    "\n",
    "print('All experiments for ' + str(cre_line) + \" cells in \" + visual_area + ': ')\n",
    "exps_df.head()"
   ]
  },
  {
   "cell_type": "markdown",
   "metadata": {},
   "source": [
    "Once you've successfully found a combination that works, you should have the head of your dataframe above. Let's look into one of these experiment containers, most of which have three different sessions for different types of visual stimuli.\n",
    "\n",
    "\n",
    "<div class=\"alert alert-success\"><b>Task:</b>\n",
    "\n",
    "1. Pick an experiment from the table above. Copy the id in the \"id\" column and assign it to <code>experiment_container_id</code>.\n",
    "2. Use the <code>get.ophys_experiments.()</code> method on our <code>boc</code> object, providing it with the arguments <code>experiment_container_ids= </code> and <code>stimuli=['natural_scenes']</code>. This will restrict our search to experiments with our ID and where natural stimuli were shown. Assign this to <code>expt_cont</code>.\n",
    "3. Look at the <code>expt_cont</code> object. What kind of object is this?\n",
    "    \n",
    "</div>"
   ]
  },
  {
   "cell_type": "code",
   "execution_count": 6,
   "metadata": {
    "scrolled": true
   },
   "outputs": [
    {
     "data": {
      "text/plain": [
       "[{'id': 504593468,\n",
       "  'imaging_depth': 275,\n",
       "  'targeted_structure': 'VISal',\n",
       "  'cre_line': 'Rorb-IRES2-Cre',\n",
       "  'reporter_line': 'Ai93(TITL-GCaMP6f)',\n",
       "  'acquisition_age_days': 128,\n",
       "  'experiment_container_id': 511510723,\n",
       "  'session_type': 'three_session_B',\n",
       "  'donor_name': '222431',\n",
       "  'specimen_name': 'Rorb-IRES2-Cre;Camk2a-tTA;Ai93-222431',\n",
       "  'fail_
