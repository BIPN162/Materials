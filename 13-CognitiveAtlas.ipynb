{
 "cells": [
  {
   "cell_type": "markdown",
   "metadata": {},
   "source": [
    "# The Cognitive Atlas & Open-Access Neuroimaging Data\n",
    "\n",
    "![http://cognitiveatlas.org//static/img/logo-front.png](http://cognitiveatlas.org//static/img/logo-front.png)\n",
    "\n",
    "\n",
    "<hr>\n",
    "\n",
    "The Cognitive Atlas web interface is useful, but limited in what we are able to analyze, in a large scale sense. Here we are going to interact with the [Cognitive Atlas](https://www.cognitiveatlas.org) \n",
    "via its [Python API](https://github.com/CognitiveAtlas/cogat-python).\n",
    "\n",
    "We'll use this database, along with Neurosynth, to address the following questions:\n",
    "\n",
    " 1. What is working memory?\n",
    " 2. What concepts are related to it?\n",
    " 3. What parts of the brain have associations from the literature?\n",
    "\n",
    "<hr>\n",
    "\n",
    "\n",
    "**API means \"application programming interface\"** and it really is exactly that: a set of functions that you can call from a programming language (e.g., Python and R are common languages for scientific programming) to interact with a resource (for example, a database) to answer some question.\n",
    "\n",
    "In fact, APIs are essential for science - there are questions that, in order to answer, might require interaction with datasets beyond the ability of a human. We can't easily answer all queries that we might have about cognitive knowledge in a web browser.\n",
    "\n",
    "For example, here are some more advanced use cases that would require programming and (some) graph theory:\n",
    "\n",
    " - What cognitive concepts are represented across a database of over 1 million articles from the literature\n",
    " - **how** similar is working memory to all other concepts in the atlas?\n",
    "     - Can you give me a number?\n",
    "     - Can you define a threshold of significance?\n",
    " - What parts of the brain, represened by coordinate locations reported in the literature, are associated with the concept?\n",
    "\n",
    "Beyond using the Cognitive Atlas as a lookup for terms, you can see that there are many use cases in research that would warrant interacting with it programatically, integrated with other tools, or scaled. Today let's explore one of these use cases - the third - and understand what areas of the brain might be involved with working memory."
   ]
  },
  {
   "cell_type": "markdown",
   "metadata": {},
   "source": [
    "## Step 1. Prepare the API.\n",
    "First, you'll need to open a terminal window within the DataHub and install the Cognitive Atlas tools with the following line. You might need to restart this kernel after doing so.\n",
    "\n",
    "```bash\n",
    "pip install --user cognitiveatlas\n",
    "```\n",
    "\n",
    "**NB:** the API itself is a [RESTful](https://codewords.recurse.com/issues/five/what-restful-actually-means) API, and could be interacted with via any programming language that can parse the [JSON endpoints](https://cognitiveatlas.org/api)."
   ]
  },
  {
   "cell_type": "markdown",
   "metadata": {},
   "source": [
    "## Step 2. Query the Cognitive Atlas API\n",
    "\n",
    "For those questions above, we're going to take the following approach:\n",
    "\n",
    " 1. Use the Cognitive Atlas Python API to query the Cognitive Atlas to look up a term based on it's name\n",
    " 2. From 1., use the term identifier, and use that identifier to look for terms that are related.\n",
    " 3. Use the same identifier to query the NeuroSynth API to derive a brain map.\n",
    " \n",
    "Let's import functions that we need from the Cognitive Atlas API, namely those to \"get\" things."
   ]
  },
  {
   "cell_type": "code",
   "execution_count": null,
   "metadata": {},
   "outputs": [],
   "source": [
    "from cognitiveatlas.api import get_concept, get_task, get_disorder"
   ]
  },
  {
   "cell_type": "markdown",
   "metadata": {},
   "source": [
    "How would you know how to use these functions? if you follow the link from the Cognitive Atlas site\n",
    "you are taken to the [readthedocs](https://cogat-python.readthedocs.io/en/latest/getting_started.html#get-concept) pages. ReadTheDocs is a service that can help software maintainers to easily render and provide beautiful\n",
    "documentation for their users. This is where we will find examples, and how to provide arguments to a function.\n",
    "\n",
    "If a piece of software _doesn't_ provide this, you should ask for it. Whether that is a post on an\n",
    "issue board or an emali to a list, as a user it's an important resource to be provided for you.\n",
    "And it's ok to ask for what you need. Based on the page linked above for the function `get_concept`\n",
    "let's see if we get get the concept \"working memory\":"
   ]
  },
  {
   "cell_type": "code",
   "execution_count": null,
   "metadata": {},
   "outputs": [],
   "source": [
    "concept = get_concept(name=\"working memory\")"
   ]
  },
  {
   "cell_type": "markdown",
   "metadata": {},
   "source": [
    "The call is showing us a quick link to see the concept, along with how to interact with it. It looks like the result has a [pandas](https://pandas.pydata.org/) data frame, a [JSON](http://json-schema.org/) (JavaScript Object Notation) object, and the url as a string. Let's see what we get when we print it.\n",
    "\n",
    "Note that if you didn't know what was in the result (and the documentation didn't help you) you could type `dir(concept)` to see it, or in an interactive jupyter notebook or ipython terminal you could use TAB autocompletion."
   ]
  },
  {
   "cell_type": "code",
   "execution_count": null,
   "metadata": {},
   "outputs": [],
   "source": [
    "# Print the keys for the dictionary\n",
    "print(\"The keys for the concept %s are:\" % concept.json['name'])\n",
    "print(concept.json.keys())"
   ]
  },
  {
   "cell_type": "markdown",
   "metadata": {},
   "source": [
    "And then we can look at the entire thing, if we wish, which includes the values for those keys!"
   ]
  },
  {
   "cell_type": "code",
   "execution_count": null,
   "metadata": {},
   "outputs": [],
   "source": [
    "concept.json"
   ]
  },
  {
   "cell_type": "markdown",
   "metadata": {},
   "source": [
    "That's quite a bit of metadata and information about \"working memory\" that we just didn't see in the web interface. This also tends to be the case for APIs - they provide a richer source of information. We can easily see the definition of working memory under the \"definition\" key:"
   ]
  },
  {
   "cell_type": "code",
   "execution_count": null,
   "metadata": {},
   "outputs": [],
   "source": [
    "print(concept.json['definition_text'])"
   ]
  },
  {
   "cell_type": "markdown",
   "metadata": {},
   "source": [
    "Boom, same defintion. What if you had a list of terms that you would otherwise have to manually look up?\n",
    "\n",
    "<div class=\"alert alert-success\"><b>Task</b>: Write a <code>for loop</code> to go through three different terms of your choosing and print the defintions.</div>"
   ]
  },
  {
   "cell_type": "code",
   "execution_count": null,
   "metadata": {},
   "outputs": [],
   "source": []
  },
  {
   "cell_type": "markdown",
   "metadata": {},
   "source": [
    "It's possible you found a term that isn't defined yet! If I were interested or working on this term, I would want to open up discussion on the website with others to define this term. We can also use the API to look up concepts based on other fields, or the same lookup for tasks or disorders:"
   ]
  },
  {
   "cell_type": "code",
   "execution_count": null,
   "metadata": {},
   "outputs": [],
   "source": [
    "task = get_task(name=\"Stroop task\")"
   ]
  },
  {
   "cell_type": "code",
   "execution_count": null,
   "metadata": {},
   "outputs": [],
   "source": [
    "phenotype = get_disorder(name=\"major depressive disorder\")"
   ]
  },
  {
   "cell_type": "markdown",
   "metadata": {},
   "source": [
    "At this point we've successfully used the API to answer our first question: *what is working memory.* You also have a sense of how this could scale. Let's move on to the second question: *what concepts are related to working memory?*\n",
    "\n",
    "<hr>\n",
    "\n",
    "## Step 3. Look for related terms\n",
    "\n",
    "Our next task is to look for related terms. Let's again get our concept, and switch it up a bit and look at \"anxiety\" instead. We will get the concept, and then look at the relationships to it. This would be akin to manually walking down a link on the graph to find another node."
   ]
  },
  {
   "cell_type": "code",
   "execution_count": null,
   "metadata": {},
   "outputs": [],
   "source": [
    "concept = get_concept(name='anxiety')\n",
    "concept.json['relationships']"
   ]
  },
  {
   "cell_type": "markdown",
   "metadata": {},
   "source": [
    "Above we learn that anxiety is a `KIND OF` emotion. We could then look up this term (the walking along the graph part):"
   ]
  },
  {
   "cell_type": "code",
   "execution_count": null,
   "metadata": {},
   "outputs": [],
   "source": [
    "parent = get_concept(concept.json['relationships'][0]['id'])"
   ]
  },
  {
   "cell_type": "markdown",
   "metadata": {},
   "source": [
    "## Step 4. Derive a Brain Map\n",
    "\n",
    "<div class=\"alert alert-success\"><b>Task</b>:\n",
    "    \n",
    "Use the [NeuroSynth](http://neurosynth.org) web interface to look up a brain map based on a concept term of interest. For example, [here is the map](http://neurosynth.org/analyses/terms/anxiety/) derived using a summary meta analysis method (based on coordinates reported in the literature) for the term \"anxiety\". </div>\n",
    "\n",
    "> You can think of NeuroSynth as a framework to do a meta analysis that looks across the psychology literature, finds tables of x,y,z coordinates reported in publications, and looks for \"significant\" areas of agreement. In other words, what blobs in the brain are commonly seen in papers with a high prevalence of the term \"anxiety\" in the abstract? It's a fairly simple method, but it works well.\n"
   ]
  },
  {
   "cell_type": "markdown",
   "metadata": {},
   "source": [
    "## Step 5. Show some brains (just for fun)\n",
    "\n",
    "Because I promised you'd learn how to code while looking at brains, let's use a package called `nilearn` and some of their sample data to see some brainsssss."
   ]
  },
  {
   "cell_type": "code",
   "execution_count": null,
   "metadata": {},
   "outputs": [],
   "source": [
    "# Import the necessary packages and set up the plotting.\n",
    "from nilearn import datasets, plotting, image, surface\n",
    "%matplotlib inline\n",
    "import matplotlib.pyplot as plt"
   ]
  },
  {
   "cell_type": "markdown",
   "metadata": {},
   "source": [
    "First, we can look at the MNI template, which is used to standardize brain images."
   ]
  },
  {
   "cell_type": "code",
   "execution_count": null,
   "metadata": {
    "scrolled": true
   },
   "outputs": [],
   "source": [
    "# Let us use a Nifti file that is shipped with nilearn\n",
    "from nilearn.datasets import MNI152_FILE_PATH\n",
    "\n",
    "plotting.plot_img(MNI152_FILE_PATH)\n",
    "plt.show()"
   ]
  },
  {
   "cell_type": "markdown",
   "metadata": {},
   "source": [
    "By interacting with Neurovault, we can grab some task specific images from [this collection](https://neurovault.org/images/10426/)! The following contains a set of images for left versus right presses. Notice the differences in the left and right hemisphere.\n",
    "\n",
    "If you want, you can also try `datasets.fetch_neurovault_auditory_computation_task()`."
   ]
  },
  {
   "cell_type": "code",
   "execution_count": null,
   "metadata": {},
   "outputs": [],
   "source": [
    "motor_images = datasets.fetch_neurovault_motor_task()\n",
    "motor_images.images\n",
    "tmap_filename = motor_images.images[0]\n",
    "plotting.plot_stat_map(tmap_filename)\n",
    "plt.show()"
   ]
  },
  {
   "cell_type": "code",
   "execution_count": null,
   "metadata": {},
   "outputs": [],
   "source": [
    "# We can threshold these images\n",
    "plotting.plot_stat_map(tmap_filename, threshold=3)\n",
    "plt.show()"
   ]
  },
  {
   "cell_type": "code",
   "execution_count": null,
   "metadata": {},
   "outputs": [],
   "source": [
    "# We can plot across various sagittal sections\n",
    "plotting.plot_stat_map(tmap_filename, display_mode='x', threshold=1.,\n",
    "                       cut_coords=range(0, 51, 10), title='Slices')\n",
    "plt.show()"
   ]
  },
  {
   "cell_type": "code",
   "execution_count": null,
   "metadata": {},
   "outputs": [],
   "source": [
    "# We can smooth the images\n",
    "smoothed_img = image.smooth_img(tmap_filename, fwhm = 3)\n",
    "plotting.plot_stat_map(smoothed_img)\n",
    "plt.show()"
   ]
  },
  {
   "cell_type": "code",
   "execution_count": null,
   "metadata": {},
   "outputs": [],
   "source": [
    "# We can create a 3D volume of the image\n",
    "fsaverage = datasets.fetch_surf_fsaverage()\n",
    "texture = surface.vol_to_surf(tmap_filename, fsaverage.pial_right)\n",
    "plotting.plot_surf_stat_map(fsaverage.infl_right, texture, hemi='right',\n",
    "                            title='Surface right hemisphere', colorbar=True,\n",
    "                            threshold=1., bg_map=fsaverage.sulc_right)\n",
    "plt.show()"
   ]
  },
  {
   "cell_type": "markdown",
   "metadata": {},
   "source": [
    "Many more fun things on the [Nilearn usage examples page](https://nilearn.github.io/auto_examples/index.html)!"
   ]
  },
  {
   "cell_type": "markdown",
   "metadata": {},
   "source": [
    "## About this notebook\n",
    "\n",
    "This notebook is largely derived from [this lesson](https://github.com/vsoch/dinosaur-lessons/blob/master/neuro/notebook/cognitive-atlas-intro.ipynb), developed by [vsoch](https://github.com/vsoch). "
   ]
  }
 ],
 "metadata": {
  "kernelspec": {
   "display_name": "Python 3",
   "language": "python",
   "name": "python3"
  },
  "language_info": {
   "codemirror_mode": {
    "name": "ipython",
    "version": 3
   },
   "file_extension": ".py",
   "mimetype": "text/x-python",
   "name": "python",
   "nbconvert_exporter": "python",
   "pygments_lexer": "ipython3",
   "version": "3.7.3"
  }
 },
 "nbformat": 4,
 "nbformat_minor": 2
}
